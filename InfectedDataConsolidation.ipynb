{
 "cells": [
  {
   "cell_type": "code",
   "execution_count": 9,
   "id": "1bd35048-98b5-4d4b-b5cf-d0f361bd8b59",
   "metadata": {
    "tags": []
   },
   "outputs": [
    {
     "name": "stdout",
     "output_type": "stream",
     "text": [
      "         ensembl_id1         ensembl_id2        transcript_id1  \\\n",
      "0  ENST00000291386.3  ENSG00000160075.11  OTTHUMG00000000576.5   \n",
      "1  ENST00000291386.3  ENSG00000160075.11  OTTHUMG00000000576.5   \n",
      "2  ENST00000616661.4   ENSG00000162496.8  OTTHUMG00000001885.5   \n",
      "3  ENST00000339276.5  ENSG00000175793.11  OTTHUMG00000004093.1   \n",
      "4  ENST00000339276.5  ENSG00000175793.11  OTTHUMG00000004093.1   \n",
      "\n",
      "         transcript_id2  gene_full   gene    bp         biotype  \\\n",
      "0  OTTHUMT00000001366.1  SSU72-201  SSU72  1290  protein_coding   \n",
      "1  OTTHUMT00000001366.1  SSU72-201  SSU72  1290  protein_coding   \n",
      "2  OTTHUMT00000005318.3  DHRS3-204  DHRS3  1722  protein_coding   \n",
      "3  OTTHUMT00000011709.1    SFN-201    SFN  1320  protein_coding   \n",
      "4  OTTHUMT00000011709.1    SFN-201    SFN  1320  protein_coding   \n",
      "\n",
      "   transcript_position  n_reads  probability_modified   kmer  mod_ratio  \n",
      "0                  533       23              0.915636  GAACT   0.695652  \n",
      "1                 1221       30              0.990171  GGACT   0.766667  \n",
      "2                 1462       22              0.996281  GGACT   0.863636  \n",
      "3                  598      159              0.941530  GAACT   0.591195  \n",
      "4                  952      233              0.980435  GGACT   0.811159  \n"
     ]
    }
   ],
   "source": [
    "import pandas as pd\n",
    "\n",
    "# Input the CSV file path, making sure to replace *** with path to your CSV file\n",
    "csv_file_path = r'***'\n",
    "\n",
    "# Read the CSV file into a pandas DataFrame and change names of columns\n",
    "infDF = pd.read_csv(csv_file_path)\n",
    "infDF.columns = ['ensembl_id1', 'ensembl_id2', 'transcript_id1', 'transcript_id2',\n",
    "                  'gene_full', 'gene', 'bp', 'biotype', 'transcript_position', 'n_reads',\n",
    "                  'probability_modified', 'kmer', 'mod_ratio']\n",
    "\n",
    "# Display the first five rows of the DataFrame as a table\n",
    "print(infDF.head())\n",
    "\n",
    "# Set parameters to keep for analysis\n",
    "paraInt = ['gene', 'n_reads', 'probability_modified', 'kmer', 'mod_ratio']\n",
    "\n",
    "# Use list from initial user input, a.k.a. IDlist. Will be replaced in main code\n",
    "IDlist = ['ENSG00000118640', 'ENSG00000089692', 'ENSG00000175793', 'ENSG00000183978']\n",
    "GOIlist = ['VAMP8', 'LAG3', 'SFN', 'COA3']\n",
    "\n",
    "# Define a function to check if the entered values are included in a row from entered data\n",
    "def checkID(data, IDs):\n",
    "    matching_rows = pd.DataFrame()\n",
    "    for ID in IDs:\n",
    "        row_to_add = data[data.apply(lambda row: row.astype(str).str.contains(ID, case=False, na=False).any(), axis=1)]\n",
    "        matching_rows = pd.concat([matching_rows, row_to_add], ignore_index=True)\n",
    "        \n",
    "    # Print the entire row(s) if matches are found\n",
    "    if not matching_rows.empty:\n",
    "        print(f\"Matching row(s) for {IDs}:\\n{matching_rows}\")\n",
    "    else:\n",
    "        print(f\"No matching rows found for {IDs}.\")\n",
    "    return matching_rows\n",
    "\n",
    "# Define a function to consolidate info about matching values into one list\n",
    "def consolidate(data):\n",
    "    analysis_data = data[paraInt]\n",
    "    return analysis_data"
   ]
  }
 ],
 "metadata": {
  "kernelspec": {
   "display_name": "Python 3 (ipykernel)",
   "language": "python",
   "name": "python3"
  },
  "language_info": {
   "codemirror_mode": {
    "name": "ipython",
    "version": 3
   },
   "file_extension": ".py",
   "mimetype": "text/x-python",
   "name": "python",
   "nbconvert_exporter": "python",
   "pygments_lexer": "ipython3",
   "version": "3.11.4"
  }
 },
 "nbformat": 4,
 "nbformat_minor": 5
}
