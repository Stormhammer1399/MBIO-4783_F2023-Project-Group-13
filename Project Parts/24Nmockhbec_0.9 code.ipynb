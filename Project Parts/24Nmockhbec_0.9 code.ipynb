{
 "cells": [
  {
   "cell_type": "code",
   "execution_count": 1,
   "id": "f9503fe6-fb59-4fa3-a6ca-5689fd250020",
   "metadata": {
    "tags": []
   },
   "outputs": [
    {
     "name": "stdout",
     "output_type": "stream",
     "text": [
      "                   ID 1                ID 2                  ID 3  \\\n",
      "0    ENST00000344843.11   ENSG00000242485.5  OTTHUMG00000002916.3   \n",
      "1     ENST00000196061.4  ENSG00000083444.16  OTTHUMG00000002393.4   \n",
      "2     ENST00000196061.4  ENSG00000083444.16  OTTHUMG00000002393.4   \n",
      "3     ENST00000196061.4  ENSG00000083444.16  OTTHUMG00000002393.4   \n",
      "4     ENST00000196061.4  ENSG00000083444.16  OTTHUMG00000002393.4   \n",
      "..                  ...                 ...                   ...   \n",
      "207   ENST00000380636.1  ENSG00000205542.10  OTTHUMG00000021144.3   \n",
      "208   ENST00000257013.8  ENSG00000134590.13  OTTHUMG00000022465.3   \n",
      "209   ENST00000257013.8  ENSG00000134590.13  OTTHUMG00000022465.3   \n",
      "210   ENST00000257013.8  ENSG00000134590.13  OTTHUMG00000022465.3   \n",
      "211   ENST00000257013.8  ENSG00000134590.13  OTTHUMG00000022465.3   \n",
      "\n",
      "                     ID 4        ID 5    ID 6  ID 7            Type  n_reads  \\\n",
      "0    OTTHUMT00000008139.1  MRPL20-201  MRPL20   721  protein_coding       25   \n",
      "1    OTTHUMT00000006865.1   PLOD1-201   PLOD1  2940  protein_coding       23   \n",
      "2    OTTHUMT00000006865.1   PLOD1-201   PLOD1  2940  protein_coding       21   \n",
      "3    OTTHUMT00000006865.1   PLOD1-201   PLOD1  2940  protein_coding       24   \n",
      "4    OTTHUMT00000006865.1   PLOD1-201   PLOD1  2940  protein_coding       24   \n",
      "..                    ...         ...     ...   ...             ...      ...   \n",
      "207  OTTHUMT00000055781.1  TMSB4X-203  TMSB4X  1702  protein_coding      199   \n",
      "208  OTTHUMT00000058391.2   RTL8C-201   RTL8C  1181  protein_coding       22   \n",
      "209  OTTHUMT00000058391.2   RTL8C-201   RTL8C  1181  protein_coding       33   \n",
      "210  OTTHUMT00000058391.2   RTL8C-201   RTL8C  1181  protein_coding       34   \n",
      "211  OTTHUMT00000058391.2   RTL8C-201   RTL8C  1181  protein_coding       24   \n",
      "\n",
      "     probability_modified   kmer  mod_ratio  \n",
      "0                0.988229  GGACT   0.800000  \n",
      "1                0.947053  AGACT   0.695652  \n",
      "2                0.996835  AGACT   0.857143  \n",
      "3                0.961475  GGACT   0.791667  \n",
      "4                0.987886  GGACT   0.916667  \n",
      "..                    ...    ...        ...  \n",
      "207              0.929400  TGACT   0.402010  \n",
      "208              0.978252  GGACT   0.772727  \n",
      "209              0.998562  GGACT   0.969697  \n",
      "210              0.936911  GGACA   0.617647  \n",
      "211              0.943032  GGACC   0.500000  \n",
      "\n",
      "[212 rows x 12 columns]\n"
     ]
    }
   ],
   "source": [
    "import pandas as pd\n",
    "\n",
    "# Input the CSV file path\n",
    "csv_file_path = \"/Users/garrettvillaver/Documents/24Nmockhbec_0.9.csv\"  # Replace with the path to your CSV file\n",
    "\n",
    "# Read the CSV file into a pandas DataFrame\n",
    "df = pd.read_csv(csv_file_path)\n",
    "\n",
    "# Display the DataFrame as a table\n",
    "print(df)\n"
   ]
  },
  {
   "cell_type": "code",
   "execution_count": 38,
   "id": "56a56e1a-a2d8-4c00-b050-dad05396b69a",
   "metadata": {
    "tags": []
   },
   "outputs": [
    {
     "name": "stdin",
     "output_type": "stream",
     "text": [
      "Enter Transcript ID:  ENST00000196061.4\n"
     ]
    },
    {
     "name": "stdout",
     "output_type": "stream",
     "text": [
      "Matching row(s) for ENST00000196061.4:\n",
      "                ID 1                ID 2                  ID 3  \\\n",
      "1  ENST00000196061.4  ENSG00000083444.16  OTTHUMG00000002393.4   \n",
      "2  ENST00000196061.4  ENSG00000083444.16  OTTHUMG00000002393.4   \n",
      "3  ENST00000196061.4  ENSG00000083444.16  OTTHUMG00000002393.4   \n",
      "4  ENST00000196061.4  ENSG00000083444.16  OTTHUMG00000002393.4   \n",
      "\n",
      "                   ID 4       ID 5   ID 6  ID 7            Type  n_reads  \\\n",
      "1  OTTHUMT00000006865.1  PLOD1-201  PLOD1  2940  protein_coding       23   \n",
      "2  OTTHUMT00000006865.1  PLOD1-201  PLOD1  2940  protein_coding       21   \n",
      "3  OTTHUMT00000006865.1  PLOD1-201  PLOD1  2940  protein_coding       24   \n",
      "4  OTTHUMT00000006865.1  PLOD1-201  PLOD1  2940  protein_coding       24   \n",
      "\n",
      "   probability_modified   kmer  mod_ratio  \n",
      "1              0.947053  AGACT   0.695652  \n",
      "2              0.996835  AGACT   0.857143  \n",
      "3              0.961475  GGACT   0.791667  \n",
      "4              0.987886  GGACT   0.916667  \n"
     ]
    }
   ],
   "source": [
    "# Ask the user for input\n",
    "user_input = input(\"Enter Transcript ID: \")\n",
    "\n",
    "# Check if the entered value is part of any value in any column\n",
    "matching_rows = df[df.apply(lambda row: row.astype(str).str.contains(user_input, case=False, na=False).any(), axis=1)]\n",
    "\n",
    "# Print the entire row(s) if matches are found\n",
    "if not matching_rows.empty:\n",
    "    print(f\"Matching row(s) for {user_input}:\\n{matching_rows}\")\n",
    "else:\n",
    "    print(f\"No matching rows found for {user_input}.\")"
   ]
  },
  {
   "cell_type": "code",
   "execution_count": 41,
   "id": "6f1957cd-c344-4300-b188-9733a90b23c8",
   "metadata": {
    "tags": []
   },
   "outputs": [
    {
     "name": "stdout",
     "output_type": "stream",
     "text": [
      "0.9470526\n"
     ]
    }
   ],
   "source": [
    "# Create an empty list to store the output\n",
    "output_list = []\n",
    "\n",
    "# Nested for loop to iterate through each row and column\n",
    "for row in matching_rows.index:\n",
    "    row_values = []\n",
    "    print(matching_rows['probability_modified'][row])\n",
    "    break\n",
    "    \"\"\"for column in row.items():\n",
    "        row_values.append(value)\n",
    "    output_list.append(row_values)\n",
    "\n",
    "# Print the output list\n",
    "for item in output_list:\n",
    "    print(item)\"\"\""
   ]
  },
  {
   "cell_type": "code",
   "execution_count": 40,
   "id": "7003aa17-1884-4f9b-97a0-bc257ed2455e",
   "metadata": {
    "tags": []
   },
   "outputs": [
    {
     "data": {
      "text/html": [
       "<div>\n",
       "<style scoped>\n",
       "    .dataframe tbody tr th:only-of-type {\n",
       "        vertical-align: middle;\n",
       "    }\n",
       "\n",
       "    .dataframe tbody tr th {\n",
       "        vertical-align: top;\n",
       "    }\n",
       "\n",
       "    .dataframe thead th {\n",
       "        text-align: right;\n",
       "    }\n",
       "</style>\n",
       "<table border=\"1\" class=\"dataframe\">\n",
       "  <thead>\n",
       "    <tr style=\"text-align: right;\">\n",
       "      <th></th>\n",
       "      <th>ID 1</th>\n",
       "      <th>ID 2</th>\n",
       "      <th>ID 3</th>\n",
       "      <th>ID 4</th>\n",
       "      <th>ID 5</th>\n",
       "      <th>ID 6</th>\n",
       "      <th>ID 7</th>\n",
       "      <th>Type</th>\n",
       "      <th>n_reads</th>\n",
       "      <th>probability_modified</th>\n",
       "      <th>kmer</th>\n",
       "      <th>mod_ratio</th>\n",
       "    </tr>\n",
       "  </thead>\n",
       "  <tbody>\n",
       "    <tr>\n",
       "      <th>1</th>\n",
       "      <td>ENST00000196061.4</td>\n",
       "      <td>ENSG00000083444.16</td>\n",
       "      <td>OTTHUMG00000002393.4</td>\n",
       "      <td>OTTHUMT00000006865.1</td>\n",
       "      <td>PLOD1-201</td>\n",
       "      <td>PLOD1</td>\n",
       "      <td>2940</td>\n",
       "      <td>protein_coding</td>\n",
       "      <td>23</td>\n",
       "      <td>0.947053</td>\n",
       "      <td>AGACT</td>\n",
       "      <td>0.695652</td>\n",
       "    </tr>\n",
       "    <tr>\n",
       "      <th>2</th>\n",
       "      <td>ENST00000196061.4</td>\n",
       "      <td>ENSG00000083444.16</td>\n",
       "      <td>OTTHUMG00000002393.4</td>\n",
       "      <td>OTTHUMT00000006865.1</td>\n",
       "      <td>PLOD1-201</td>\n",
       "      <td>PLOD1</td>\n",
       "      <td>2940</td>\n",
       "      <td>protein_coding</td>\n",
       "      <td>21</td>\n",
       "      <td>0.996835</td>\n",
       "      <td>AGACT</td>\n",
       "      <td>0.857143</td>\n",
       "    </tr>\n",
       "    <tr>\n",
       "      <th>3</th>\n",
       "      <td>ENST00000196061.4</td>\n",
       "      <td>ENSG00000083444.16</td>\n",
       "      <td>OTTHUMG00000002393.4</td>\n",
       "      <td>OTTHUMT00000006865.1</td>\n",
       "      <td>PLOD1-201</td>\n",
       "      <td>PLOD1</td>\n",
       "      <td>2940</td>\n",
       "      <td>protein_coding</td>\n",
       "      <td>24</td>\n",
       "      <td>0.961475</td>\n",
       "      <td>GGACT</td>\n",
       "      <td>0.791667</td>\n",
       "    </tr>\n",
       "    <tr>\n",
       "      <th>4</th>\n",
       "      <td>ENST00000196061.4</td>\n",
       "      <td>ENSG00000083444.16</td>\n",
       "      <td>OTTHUMG00000002393.4</td>\n",
       "      <td>OTTHUMT00000006865.1</td>\n",
       "      <td>PLOD1-201</td>\n",
       "      <td>PLOD1</td>\n",
       "      <td>2940</td>\n",
       "      <td>protein_coding</td>\n",
       "      <td>24</td>\n",
       "      <td>0.987886</td>\n",
       "      <td>GGACT</td>\n",
       "      <td>0.916667</td>\n",
       "    </tr>\n",
       "  </tbody>\n",
       "</table>\n",
       "</div>"
      ],
      "text/plain": [
       "                ID 1                ID 2                  ID 3  \\\n",
       "1  ENST00000196061.4  ENSG00000083444.16  OTTHUMG00000002393.4   \n",
       "2  ENST00000196061.4  ENSG00000083444.16  OTTHUMG00000002393.4   \n",
       "3  ENST00000196061.4  ENSG00000083444.16  OTTHUMG00000002393.4   \n",
       "4  ENST00000196061.4  ENSG00000083444.16  OTTHUMG00000002393.4   \n",
       "\n",
       "                   ID 4       ID 5   ID 6  ID 7            Type  n_reads  \\\n",
       "1  OTTHUMT00000006865.1  PLOD1-201  PLOD1  2940  protein_coding       23   \n",
       "2  OTTHUMT00000006865.1  PLOD1-201  PLOD1  2940  protein_coding       21   \n",
       "3  OTTHUMT00000006865.1  PLOD1-201  PLOD1  2940  protein_coding       24   \n",
       "4  OTTHUMT00000006865.1  PLOD1-201  PLOD1  2940  protein_coding       24   \n",
       "\n",
       "   probability_modified   kmer  mod_ratio  \n",
       "1              0.947053  AGACT   0.695652  \n",
       "2              0.996835  AGACT   0.857143  \n",
       "3              0.961475  GGACT   0.791667  \n",
       "4              0.987886  GGACT   0.916667  "
      ]
     },
     "execution_count": 40,
     "metadata": {},
     "output_type": "execute_result"
    }
   ],
   "source": [
    "matching_rows"
   ]
  },
  {
   "cell_type": "code",
   "execution_count": null,
   "id": "1d0e2ca2-7263-4dbc-8bd5-5edadbb89ec0",
   "metadata": {},
   "outputs": [],
   "source": []
  }
 ],
 "metadata": {
  "kernelspec": {
   "display_name": "Python 3 (ipykernel)",
   "language": "python",
   "name": "python3"
  },
  "language_info": {
   "codemirror_mode": {
    "name": "ipython",
    "version": 3
   },
   "file_extension": ".py",
   "mimetype": "text/x-python",
   "name": "python",
   "nbconvert_exporter": "python",
   "pygments_lexer": "ipython3",
   "version": "3.11.4"
  }
 },
 "nbformat": 4,
 "nbformat_minor": 5
}
