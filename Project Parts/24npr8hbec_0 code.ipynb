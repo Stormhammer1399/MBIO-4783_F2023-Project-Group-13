{
 "cells": [
  {
   "cell_type": "code",
   "execution_count": 1,
   "id": "2e891bf0-6bbe-4284-88c9-6f72fe0ed290",
   "metadata": {
    "tags": []
   },
   "outputs": [
    {
     "name": "stdout",
     "output_type": "stream",
     "text": [
      "                  ID 1                ID 2                  ID 3  \\\n",
      "0    ENST00000291386.3  ENSG00000160075.11  OTTHUMG00000000576.5   \n",
      "1    ENST00000291386.3  ENSG00000160075.11  OTTHUMG00000000576.5   \n",
      "2    ENST00000616661.4   ENSG00000162496.8  OTTHUMG00000001885.5   \n",
      "3    ENST00000339276.5  ENSG00000175793.11  OTTHUMG00000004093.1   \n",
      "4    ENST00000339276.5  ENSG00000175793.11  OTTHUMG00000004093.1   \n",
      "..                 ...                 ...                   ...   \n",
      "208  ENST00000374980.2   ENSG00000125977.6  OTTHUMG00000032287.2   \n",
      "209  ENST00000374450.7   ENSG00000242372.6  OTTHUMG00000032328.6   \n",
      "210  ENST00000303004.4   ENSG00000172216.5  OTTHUMG00000032715.1   \n",
      "211  ENST00000303004.4   ENSG00000172216.5  OTTHUMG00000032715.1   \n",
      "212  ENST00000330029.6  ENSG00000184076.13  OTTHUMG00000151283.2   \n",
      "\n",
      "                     ID 4        ID 5    ID 6  ID 7            Type  \\\n",
      "0    OTTHUMT00000001366.1   SSU72-201   SSU72  1290  protein_coding   \n",
      "1    OTTHUMT00000001366.1   SSU72-201   SSU72  1290  protein_coding   \n",
      "2    OTTHUMT00000005318.3   DHRS3-204   DHRS3  1722  protein_coding   \n",
      "3    OTTHUMT00000011709.1     SFN-201     SFN  1320  protein_coding   \n",
      "4    OTTHUMT00000011709.1     SFN-201     SFN  1320  protein_coding   \n",
      "..                    ...         ...     ...   ...             ...   \n",
      "208  OTTHUMT00000078765.2  EIF2S2-201  EIF2S2  2656  protein_coding   \n",
      "209  OTTHUMT00000078848.3    EIF6-203    EIF6  1289  protein_coding   \n",
      "210  OTTHUMT00000079672.1   CEBPB-201   CEBPB  1956  protein_coding   \n",
      "211  OTTHUMT00000079672.1   CEBPB-201   CEBPB  1956  protein_coding   \n",
      "212  OTTHUMT00000322081.1  UQCR10-201  UQCR10   916  protein_coding   \n",
      "\n",
      "     transcript_position  n_reads  probability_modified   kmer  mod_ratio  \n",
      "0                    533       23              0.915636  GAACT   0.695652  \n",
      "1                   1221       30              0.990171  GGACT   0.766667  \n",
      "2                   1462       22              0.996281  GGACT   0.863636  \n",
      "3                    598      159              0.941530  GAACT   0.591195  \n",
      "4                    952      233              0.980435  GGACT   0.811159  \n",
      "..                   ...      ...                   ...    ...        ...  \n",
      "208                 1271       50              0.939582  GGACA   0.600000  \n",
      "209                 1117       22              0.962245  GGACT   0.772727  \n",
      "210                 1378       24              0.970023  AGACT   0.583333  \n",
      "211                 1706       36              0.990854  GGACT   0.916667  \n",
      "212                  374       52              0.926231  AGACT   0.673077  \n",
      "\n",
      "[213 rows x 13 columns]\n"
     ]
    }
   ],
   "source": [
    "import pandas as pd\n",
    "\n",
    "# Input the CSV file path\n",
    "csv_file_path = \"/Users/garrettvillaver/Documents/24npr8hbec_0.csv\"  # Replace with the path to your CSV file\n",
    "\n",
    "# Read the CSV file into a pandas DataFrame\n",
    "df = pd.read_csv(csv_file_path)\n",
    "\n",
    "# Display the DataFrame as a table\n",
    "print(df)\n"
   ]
  },
  {
   "cell_type": "code",
   "execution_count": 6,
   "id": "19deb2d1-9e87-408d-9332-e6cd547fea2b",
   "metadata": {
    "tags": []
   },
   "outputs": [
    {
     "name": "stdin",
     "output_type": "stream",
     "text": [
      "Enter Transcript ID:  ENST00000291386.3\n"
     ]
    },
    {
     "name": "stdout",
     "output_type": "stream",
     "text": [
      "Matching row(s) for ENST00000291386.3:\n",
      "                ID 1                ID 2                  ID 3  \\\n",
      "0  ENST00000291386.3  ENSG00000160075.11  OTTHUMG00000000576.5   \n",
      "1  ENST00000291386.3  ENSG00000160075.11  OTTHUMG00000000576.5   \n",
      "\n",
      "                   ID 4       ID 5   ID 6  ID 7            Type  \\\n",
      "0  OTTHUMT00000001366.1  SSU72-201  SSU72  1290  protein_coding   \n",
      "1  OTTHUMT00000001366.1  SSU72-201  SSU72  1290  protein_coding   \n",
      "\n",
      "   transcript_position  n_reads  probability_modified   kmer  mod_ratio  \n",
      "0                  533       23              0.915636  GAACT   0.695652  \n",
      "1                 1221       30              0.990171  GGACT   0.766667  \n"
     ]
    }
   ],
   "source": [
    "# Ask the user for input\n",
    "user_input = input(\"Enter Transcript ID: \")\n",
    "\n",
    "# Check if the entered value is part of any value in any column\n",
    "matching_rows = df[df.apply(lambda row: row.astype(str).str.contains(user_input, case=False, na=False).any(), axis=1)]\n",
    "\n",
    "# Print the entire row(s) if matches are found\n",
    "if not matching_rows.empty:\n",
    "    print(f\"Matching row(s) for {user_input}:\\n{matching_rows}\")\n",
    "else:\n",
    "    print(f\"No matching rows found for {user_input}.\")"
   ]
  },
  {
   "cell_type": "code",
   "execution_count": null,
   "id": "4d2abdc7-7ef1-4746-93c7-e6599e460b8a",
   "metadata": {},
   "outputs": [],
   "source": []
  }
 ],
 "metadata": {
  "kernelspec": {
   "display_name": "Python 3 (ipykernel)",
   "language": "python",
   "name": "python3"
  },
  "language_info": {
   "codemirror_mode": {
    "name": "ipython",
    "version": 3
   },
   "file_extension": ".py",
   "mimetype": "text/x-python",
   "name": "python",
   "nbconvert_exporter": "python",
   "pygments_lexer": "ipython3",
   "version": "3.11.4"
  }
 },
 "nbformat": 4,
 "nbformat_minor": 5
}
