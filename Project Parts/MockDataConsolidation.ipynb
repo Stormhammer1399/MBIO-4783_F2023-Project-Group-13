{
 "cells": [
  {
   "cell_type": "code",
   "execution_count": 162,
   "id": "f9503fe6-fb59-4fa3-a6ca-5689fd250020",
   "metadata": {
    "tags": []
   },
   "outputs": [
    {
     "name": "stdout",
     "output_type": "stream",
     "text": [
      "          ensembl_id1         ensembl_id2        transcript_id1  \\\n",
      "0  ENST00000344843.11   ENSG00000242485.5  OTTHUMG00000002916.3   \n",
      "1   ENST00000196061.4  ENSG00000083444.16  OTTHUMG00000002393.4   \n",
      "2   ENST00000196061.4  ENSG00000083444.16  OTTHUMG00000002393.4   \n",
      "3   ENST00000196061.4  ENSG00000083444.16  OTTHUMG00000002393.4   \n",
      "4   ENST00000196061.4  ENSG00000083444.16  OTTHUMG00000002393.4   \n",
      "\n",
      "         transcript_id2   gene_full    gene    bp         biotype  \\\n",
      "0  OTTHUMT00000008139.1  MRPL20-201  MRPL20   721  protein_coding   \n",
      "1  OTTHUMT00000006865.1   PLOD1-201   PLOD1  2940  protein_coding   \n",
      "2  OTTHUMT00000006865.1   PLOD1-201   PLOD1  2940  protein_coding   \n",
      "3  OTTHUMT00000006865.1   PLOD1-201   PLOD1  2940  protein_coding   \n",
      "4  OTTHUMT00000006865.1   PLOD1-201   PLOD1  2940  protein_coding   \n",
      "\n",
      "   transcript_position  n_reads  probability_modified   kmer  mod_ratio  \n",
      "0                  548       25              0.988229  GGACT   0.800000  \n",
      "1                 2538       23              0.947053  AGACT   0.695652  \n",
      "2                 2578       21              0.996835  AGACT   0.857143  \n",
      "3                 2637       24              0.961475  GGACT   0.791667  \n",
      "4                 2703       24              0.987886  GGACT   0.916667  \n"
     ]
    }
   ],
   "source": [
    "import pandas as pd\n",
    "\n",
    "# Input the CSV file path, making sure to replace *** with path to your CSV file\n",
    "csv_file_path = r'***'\n",
    "\n",
    "# Read the CSV file into a pandas DataFrame and change names of columns\n",
    "mockDF = pd.read_csv(csv_file_path)\n",
    "mockDF.columns = ['ensembl_id1', 'ensembl_id2', 'transcript_id1', 'transcript_id2',\n",
    "                  'gene_full', 'gene', 'bp', 'biotype', 'transcript_position', 'n_reads',\n",
    "                  'probability_modified', 'kmer', 'mod_ratio']\n",
    "\n",
    "# Display the first five rows of the DataFrame as a table\n",
    "print(mockDF.head())\n",
    "\n",
    "# Set parameters to keep for analysis\n",
    "paraInt = ['gene', 'n_reads', 'probability_modified', 'kmer', 'mod_ratio']\n",
    "\n",
    "# Use list from initial user input, a.k.a. IDlist. Will be replaced in main code\n",
    "IDlist = ['ENSG00000118640', 'ENSG00000089692', 'ENSG00000175793', 'ENSG00000183978']\n",
    "GOIlist = ['VAMP8', 'LAG3', 'SFN', 'COA3']\n",
    "\n",
    "# Define a function to check if the entered values are included in a row from entered data\n",
    "def checkID(data, IDs):\n",
    "    matching_rows = pd.DataFrame()\n",
    "    for ID in IDs:\n",
    "        row_to_add = data[data.apply(lambda row: row.astype(str).str.contains(ID, case=False, na=False).any(), axis=1)]\n",
    "        matching_rows = pd.concat([matching_rows, row_to_add], ignore_index=True)\n",
    "        \n",
    "    # Print the entire row(s) if matches are found\n",
    "    if not matching_rows.empty:\n",
    "        print(f\"Matching row(s) for {IDs}:\\n{matching_rows}\")\n",
    "    else:\n",
    "        print(f\"No matching rows found for {IDs}.\")\n",
    "    return matching_rows\n",
    "\n",
    "# Define a function to consolidate info about matching values into one list\n",
    "def consolidate(data):\n",
    "    analysis_data = data[paraInt]\n",
    "    return analysis_data"
   ]
  }
 ],
 "metadata": {
  "kernelspec": {
   "display_name": "Python 3 (ipykernel)",
   "language": "python",
   "name": "python3"
  },
  "language_info": {
   "codemirror_mode": {
    "name": "ipython",
    "version": 3
   },
   "file_extension": ".py",
   "mimetype": "text/x-python",
   "name": "python",
   "nbconvert_exporter": "python",
   "pygments_lexer": "ipython3",
   "version": "3.11.4"
  }
 },
 "nbformat": 4,
 "nbformat_minor": 5
}
